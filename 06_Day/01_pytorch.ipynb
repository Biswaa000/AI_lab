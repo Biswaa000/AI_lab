{
 "cells": [
  {
   "cell_type": "code",
   "execution_count": 1,
   "id": "0b373093-a7f9-4987-a92e-48701b9a2d78",
   "metadata": {},
   "outputs": [],
   "source": [
    "import torch \n",
    "from torch import nn\n",
    "import matplotlib.pyplot as plt"
   ]
  },
  {
   "cell_type": "code",
   "execution_count": 2,
   "id": "8afcd60f-6465-48d6-a9b6-e6dcbb5a5322",
   "metadata": {},
   "outputs": [
    {
     "name": "stdout",
     "output_type": "stream",
     "text": [
      "2.5.1+cu118\n"
     ]
    }
   ],
   "source": [
    "print(torch.__version__)"
   ]
  },
  {
   "cell_type": "code",
   "execution_count": 3,
   "id": "f8a80391-1ce2-4923-bdd8-8739e64d78e9",
   "metadata": {},
   "outputs": [
    {
     "name": "stdout",
     "output_type": "stream",
     "text": [
      "using device =cuda\n"
     ]
    }
   ],
   "source": [
    "if torch.cuda.is_available():\n",
    "    device='cuda'\n",
    "elif torch.backends.mps.is_available(): \n",
    "    device=torch.device(\"mps\")\n",
    "else:\n",
    "    device=\"cpu\"\n",
    "\n",
    "print(f\"using device ={device}\")"
   ]
  },
  {
   "cell_type": "code",
   "execution_count": 4,
   "id": "7bb55cd7-9da2-438b-ae89-3c62957f70ee",
   "metadata": {},
   "outputs": [
    {
     "name": "stdout",
     "output_type": "stream",
     "text": [
      "shape of X =  torch.Size([50, 1])\n",
      "shape of y =  torch.Size([50, 1])\n",
      "Tpye of X =  <class 'torch.Tensor'>\n",
      "Type of y = <class 'torch.Tensor'>\n"
     ]
    }
   ],
   "source": [
    "m=0.7\n",
    "c=0.3\n",
    "\n",
    "X=torch.arange(0,1,0.02).unsqueeze(dim=1)\n",
    "\n",
    "y=m*X+c\n",
    "\n",
    "print(\"shape of X = \", X.shape)\n",
    "print(\"shape of y = \", y.shape)\n",
    "print(\"Tpye of X = \", type(X))\n",
    "print(\"Type of y =\",type(y))"
   ]
  },
  {
   "cell_type": "code",
   "execution_count": 5,
   "id": "7015024f-7ab7-454e-8404-b57071625708",
   "metadata": {},
   "outputs": [
    {
     "name": "stdout",
     "output_type": "stream",
     "text": [
      "torch.Size([40, 1]) torch.Size([40, 1])\n",
      "torch.Size([10, 1]) torch.Size([10, 1])\n"
     ]
    }
   ],
   "source": [
    "split=int(0.8*len(X))\n",
    "X_train,y_train=X[:split],y[:split]\n",
    "X_test,y_test=X[split:],y[split:]\n",
    "\n",
    "print(X_train.shape, y_train.shape)\n",
    "print(X_test.shape,y_test.shape)"
   ]
  },
  {
   "cell_type": "code",
   "execution_count": 6,
   "id": "a0d707b0-350e-4852-bc39-93dc3d9430a7",
   "metadata": {},
   "outputs": [],
   "source": [
    "# def plot_data(X_train=X_train,y_train=y_train,X_test=X_test,y_test=y_test,prediction=None):\n",
    "#     plt.scatter(X_train,y_train,c='b',s=8,label=\"training data\")\n",
    "#     plt.scatter(X_test,y_test,c='r',s=8,label=\"testing data\")\n",
    "\n",
    "#     if prediction is not None:\n",
    "#         plt.scatter(X_test,prediction,c='g',s=8,label=\"prediction data\")\n",
    "#     plt.legend();\n",
    "    \n",
    "# plot_data()"
   ]
  },
  {
   "cell_type": "code",
   "execution_count": 13,
   "id": "fa48f292-e7a6-422c-ad4e-f7bee73ce80d",
   "metadata": {},
   "outputs": [],
   "source": [
    "class FirstNeuralNewtork(nn.Module):\n",
    "    def __init__(self):\n",
    "        super().__init__()\n",
    "        self.weights=nn.Parameter(torch.rand(1,dtype=torch.float,requires_grad=True))\n",
    "        self.bias=nn.Parameter(torch.rand(1,dtype=torch.float,requires_grad=True))\n",
    "\n",
    "    def forward(self,X: torch.Tensor)-> torch.Tensor:\n",
    "        return self.weights*X+self.bias"
   ]
  },
  {
   "cell_type": "code",
   "execution_count": 14,
   "id": "6fa21db3-517f-494d-9361-6ebd310900a3",
   "metadata": {},
   "outputs": [
    {
     "data": {
      "text/plain": [
       "[Parameter containing:\n",
       " tensor([0.8823], requires_grad=True),\n",
       " Parameter containing:\n",
       " tensor([0.9150], requires_grad=True)]"
      ]
     },
     "execution_count": 14,
     "metadata": {},
     "output_type": "execute_result"
    }
   ],
   "source": [
    "torch.manual_seed(42)\n",
    "model_0=FirstNeuralNewtork()\n",
    "list(model_0.parameters())"
   ]
  },
  {
   "cell_type": "code",
   "execution_count": 15,
   "id": "f4de7dd2-a9fb-4461-8f13-9fe478a8ad2e",
   "metadata": {},
   "outputs": [],
   "source": [
    "#get predictions \n",
    "with torch.inference_mode():\n",
    "    y_preds=model_0(X_test)\n",
    "\n",
    "# plot_data(pre)"
   ]
  },
  {
   "cell_type": "code",
   "execution_count": 29,
   "id": "4da091af-39fb-4120-acf2-f27ed9c6e853",
   "metadata": {},
   "outputs": [],
   "source": [
    "loss_fn= nn.MSELoss()\n",
    "optimizer=torch.optim.SGD(\n",
    "    params=model_0.parameters(),\n",
    "    lr=0.1\n",
    ")\n"
   ]
  },
  {
   "cell_type": "code",
   "execution_count": 30,
   "id": "391e71c5-c217-4c69-aded-3d11dd39969e",
   "metadata": {},
   "outputs": [
    {
     "data": {
      "text/plain": [
       "FirstNeuralNewtork()"
      ]
     },
     "execution_count": 30,
     "metadata": {},
     "output_type": "execute_result"
    }
   ],
   "source": [
    "model_0.to(device)"
   ]
  },
  {
   "cell_type": "code",
   "execution_count": 37,
   "id": "ecd75f89-8b16-4b4e-ac00-1fef97fccdf6",
   "metadata": {},
   "outputs": [
    {
     "name": "stdout",
     "output_type": "stream",
     "text": [
      " epoch: 0| trian loss : 0.00001 | test_loss : 5.064971264800988e-05\n",
      " epoch: 10| trian loss : 0.00001 | test_loss : 4.210641054669395e-05\n",
      " epoch: 20| trian loss : 0.00001 | test_loss : 3.500478123896755e-05\n",
      " epoch: 30| trian loss : 0.00001 | test_loss : 2.909991417254787e-05\n",
      " epoch: 40| trian loss : 0.00001 | test_loss : 2.4191385818994604e-05\n",
      " epoch: 50| trian loss : 0.00000 | test_loss : 2.011049036809709e-05\n",
      " epoch: 60| trian loss : 0.00000 | test_loss : 1.671850804996211e-05\n",
      " epoch: 70| trian loss : 0.00000 | test_loss : 1.3898301403969526e-05\n",
      " epoch: 80| trian loss : 0.00000 | test_loss : 1.1554048796824645e-05\n",
      " epoch: 90| trian loss : 0.00000 | test_loss : 9.604947990737855e-06\n",
      " epoch: 100| trian loss : 0.00000 | test_loss : 7.984759577084333e-06\n",
      " epoch: 110| trian loss : 0.00000 | test_loss : 6.63822083879495e-06\n",
      " epoch: 120| trian loss : 0.00000 | test_loss : 5.518042144103674e-06\n",
      " epoch: 130| trian loss : 0.00000 | test_loss : 4.587435796565842e-06\n",
      " epoch: 140| trian loss : 0.00000 | test_loss : 3.8138337004056666e-06\n",
      " epoch: 150| trian loss : 0.00000 | test_loss : 3.1704141747468384e-06\n",
      " epoch: 160| trian loss : 0.00000 | test_loss : 2.635719738464104e-06\n",
      " epoch: 170| trian loss : 0.00000 | test_loss : 2.1911484964221017e-06\n",
      " epoch: 180| trian loss : 0.00000 | test_loss : 1.8213548855783301e-06\n",
      " epoch: 190| trian loss : 0.00000 | test_loss : 1.514087102805206e-06\n",
      " epoch: 200| trian loss : 0.00000 | test_loss : 1.2588260460688616e-06\n",
      " epoch: 210| trian loss : 0.00000 | test_loss : 1.0464312936164788e-06\n",
      " epoch: 220| trian loss : 0.00000 | test_loss : 8.697952011971211e-07\n",
      " epoch: 230| trian loss : 0.00000 | test_loss : 7.231374752336706e-07\n",
      " epoch: 240| trian loss : 0.00000 | test_loss : 6.012031121827022e-07\n",
      " epoch: 250| trian loss : 0.00000 | test_loss : 4.997818336960336e-07\n",
      " epoch: 260| trian loss : 0.00000 | test_loss : 4.154441910486639e-07\n",
      " epoch: 270| trian loss : 0.00000 | test_loss : 3.453581882695289e-07\n",
      " epoch: 280| trian loss : 0.00000 | test_loss : 2.8712301514133287e-07\n",
      " epoch: 290| trian loss : 0.00000 | test_loss : 2.3872684096204466e-07\n",
      " epoch: 300| trian loss : 0.00000 | test_loss : 1.9845575138788263e-07\n",
      " epoch: 310| trian loss : 0.00000 | test_loss : 1.6501473965035984e-07\n",
      " epoch: 320| trian loss : 0.00000 | test_loss : 1.371965936414199e-07\n",
      " epoch: 330| trian loss : 0.00000 | test_loss : 1.1403238886487088e-07\n",
      " epoch: 340| trian loss : 0.00000 | test_loss : 9.472367423768446e-08\n",
      " epoch: 350| trian loss : 0.00000 | test_loss : 7.877582675064332e-08\n",
      " epoch: 360| trian loss : 0.00000 | test_loss : 6.547239905785318e-08\n",
      " epoch: 370| trian loss : 0.00000 | test_loss : 5.442269568334268e-08\n",
      " epoch: 380| trian loss : 0.00000 | test_loss : 4.523506191844717e-08\n",
      " epoch: 390| trian loss : 0.00000 | test_loss : 3.7614675818531396e-08\n",
      " epoch: 400| trian loss : 0.00000 | test_loss : 3.1279054013566565e-08\n",
      " epoch: 410| trian loss : 0.00000 | test_loss : 2.599433024386144e-08\n",
      " epoch: 420| trian loss : 0.00000 | test_loss : 2.1620280676870607e-08\n",
      " epoch: 430| trian loss : 0.00000 | test_loss : 1.7977056288032145e-08\n",
      " epoch: 440| trian loss : 0.00000 | test_loss : 1.4937853620722308e-08\n",
      " epoch: 450| trian loss : 0.00000 | test_loss : 1.2420811934532594e-08\n",
      " epoch: 460| trian loss : 0.00000 | test_loss : 1.0318255583285918e-08\n",
      " epoch: 470| trian loss : 0.00000 | test_loss : 8.582296651127308e-09\n",
      " epoch: 480| trian loss : 0.00000 | test_loss : 7.140609437072953e-09\n",
      " epoch: 490| trian loss : 0.00000 | test_loss : 5.9340568014931705e-09\n"
     ]
    }
   ],
   "source": [
    "epochs=500\n",
    "X_train=X_train.to(device)\n",
    "y_train=y_train.to(device)\n",
    "X_test=X_test.to(device)\n",
    "y_test=y_test.to(device)\n",
    "\n",
    "trainLossList=[]\n",
    "testLossList=[]\n",
    "for epoch in range(epochs): \n",
    "     #training \n",
    "    model_0.train()\n",
    "\n",
    "    # 1. Forward pass \n",
    "    train_preds=model_0(X_train)\n",
    "\n",
    "    # 2. compute Training Loss \n",
    "    train_loss = loss_fn(y_train,train_preds)\n",
    "\n",
    "    # 3. ZEro grad optimer \n",
    "    optimizer.zero_grad()\n",
    "\n",
    "    #4. Backpropagate Loss \n",
    "    train_loss.backward()\n",
    "    #5. step the optimizer\n",
    "    optimizer.step()\n",
    "\n",
    "    # Testing \n",
    "    with torch.inference_mode():\n",
    "        test_preds=model_0(X_test)\n",
    "        test_loss=loss_fn(y_test,test_preds)\n",
    "\n",
    "    if epoch%10 ==0 : \n",
    "        print(f\" epoch: {epoch}| trian loss : {train_loss:.5f} | test_loss : {test_loss}\" )\n",
    "\n",
    "    trainLossList.append(train_loss.cpu().detach().numpy())\n",
    "    testLossList.append(test_loss.cpu().detach().numpy())"
   ]
  },
  {
   "cell_type": "code",
   "execution_count": 38,
   "id": "388f5c84-d4a0-46f4-811c-9293fb24cabe",
   "metadata": {},
   "outputs": [],
   "source": [
    "with torch.inference_mode():\n",
    "    y_preds=model_0(X_test)\n",
    "    \n",
    "# plot()"
   ]
  },
  {
   "cell_type": "code",
   "execution_count": null,
   "id": "e4b765da-0383-4c65-bcab-7afe13239a09",
   "metadata": {},
   "outputs": [],
   "source": [
    "import matplotlib.pyplot as plt\n",
    "\n",
    "# Plot training and test loss values\n",
    "plt.figure(figsize=(10, 8))\n",
    "plt.plot(range(epochs), train_loss_values, label='Train Loss', color='blue', linewidth=2)\n",
    "plt.plot(range(epochs), test_loss_values, label='Test Loss', color='orange', linewidth=2)\n",
    "\n",
    "# Add labels, title, and legend\n",
    "plt.xlabel('Epochs', fontsize=14)\n",
    "plt.ylabel('Loss', fontsize=14)\n",
    "plt.title('Training and Test Loss over Epochs', fontsize=16)\n",
    "plt.legend(fontsize=12)\n",
    "\n",
    "# Add grid for better visualization\n",
    "plt.grid(True, linestyle='--', alpha=0.6)\n",
    "\n",
    "# Show the plot\n",
    "plt.show()"
   ]
  }
 ],
 "metadata": {
  "kernelspec": {
   "display_name": "Python 3 (ipykernel)",
   "language": "python",
   "name": "python3"
  },
  "language_info": {
   "codemirror_mode": {
    "name": "ipython",
    "version": 3
   },
   "file_extension": ".py",
   "mimetype": "text/x-python",
   "name": "python",
   "nbconvert_exporter": "python",
   "pygments_lexer": "ipython3",
   "version": "3.10.16"
  }
 },
 "nbformat": 4,
 "nbformat_minor": 5
}
