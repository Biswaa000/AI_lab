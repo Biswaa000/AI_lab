{
 "cells": [
  {
   "cell_type": "code",
   "execution_count": 1,
   "id": "c7970775-fc96-4e95-b3b3-8e1175b9f1c7",
   "metadata": {},
   "outputs": [
    {
     "name": "stdout",
     "output_type": "stream",
     "text": [
      "2.5.1+cu118\n"
     ]
    }
   ],
   "source": [
    "import torch \n",
    "from torch import nn \n",
    "from torch.utils.data import DataLoader\n",
    "import torch.nn.functional as F\n",
    "from torchvision import datasets,transforms\n",
    "import os \n",
    "\n",
    "print(torch.__version__)"
   ]
  },
  {
   "cell_type": "code",
   "execution_count": 2,
   "id": "88521a39-eb9d-4eaf-918c-c002928beb2e",
   "metadata": {},
   "outputs": [
    {
     "name": "stdout",
     "output_type": "stream",
     "text": [
      "using device =cuda\n"
     ]
    }
   ],
   "source": [
    "if torch.cuda.is_available():\n",
    "    device='cuda'\n",
    "elif torch.backends.mps.is_available(): \n",
    "    device=torch.device(\"mps\")\n",
    "else:\n",
    "    device=\"cpu\"\n",
    "\n",
    "print(f\"using device ={device}\")"
   ]
  },
  {
   "cell_type": "code",
   "execution_count": 3,
   "id": "dea993c3-951f-405b-a19d-a95aa1193a87",
   "metadata": {},
   "outputs": [],
   "source": [
    "train_dir=\"CustomDataSet/data/train\"\n",
    "test_dir=\"CustomDataSet/data/test\""
   ]
  },
  {
   "cell_type": "code",
   "execution_count": 4,
   "id": "693b3031-e0c8-4aee-bb7d-0da0e45841c4",
   "metadata": {},
   "outputs": [],
   "source": [
    "# set up transformers \n",
    "train_transforms = transforms.Compose([\n",
    "    transforms.Resize((128,128)), \n",
    "    transforms.RandomHorizontalFlip(p=0.5),\n",
    "    transforms.RandomRotation(degrees=20),\n",
    "    transforms.RandomGrayscale(p=0.1),\n",
    "    transforms.GaussianBlur(kernel_size=3),\n",
    "    transforms.ToTensor(),\n",
    "    transforms.Normalize((0.5,),(0.5,))\n",
    "])\n",
    "\n",
    "test_transforms = transforms.Compose([\n",
    "    transforms.Resize((128,128)), \n",
    "    transforms.ToTensor(),\n",
    "    transforms.Normalize((0.5,),(0.5,))\n",
    "])\n"
   ]
  },
  {
   "cell_type": "code",
   "execution_count": 5,
   "id": "5b544e1a-5d90-4ffb-b8d6-7feb662bc330",
   "metadata": {},
   "outputs": [],
   "source": [
    "# load datasets \n",
    "train_data = datasets.ImageFolder(root=train_dir,transform=train_transforms)\n",
    "test_data = datasets.ImageFolder(root=test_dir,transform=test_transforms)\n",
    "\n"
   ]
  },
  {
   "cell_type": "code",
   "execution_count": 6,
   "id": "7138982e-932d-48ca-a752-2348eb3e62f6",
   "metadata": {},
   "outputs": [],
   "source": [
    "# create data loader \n",
    "batch_size=32\n",
    "train_loader = DataLoader(train_data,batch_size=batch_size,shuffle=True)\n",
    "test_loader = DataLoader(test_data,batch_size=batch_size,shuffle=False)\n",
    "\n"
   ]
  },
  {
   "cell_type": "code",
   "execution_count": 7,
   "id": "5502d7b7-5293-4c1c-9494-8ffcf3193c26",
   "metadata": {},
   "outputs": [
    {
     "name": "stdout",
     "output_type": "stream",
     "text": [
      "['donuts', 'french_fries', 'fried_rice', 'samosa']\n"
     ]
    }
   ],
   "source": [
    "class_name = train_data.classes\n",
    "print(class_name)"
   ]
  },
  {
   "cell_type": "code",
   "execution_count": 8,
   "id": "99cf4cd6-9067-4dad-b233-e5e3b1aa2dda",
   "metadata": {},
   "outputs": [
    {
     "name": "stdout",
     "output_type": "stream",
     "text": [
      "{'donuts': 0, 'french_fries': 1, 'fried_rice': 2, 'samosa': 3}\n"
     ]
    }
   ],
   "source": [
    "class_name_idx = train_data.class_to_idx\n",
    "print(class_name_idx)"
   ]
  },
  {
   "cell_type": "code",
   "execution_count": 9,
   "id": "822d5886-eac1-4cd8-af16-81ae29e01019",
   "metadata": {},
   "outputs": [],
   "source": [
    "from model import CustomCNN \n",
    "num_classes = len(train_data.classes)\n",
    "model_0=CustomCNN(num_classes=num_classes).to(device)"
   ]
  },
  {
   "cell_type": "code",
   "execution_count": 10,
   "id": "c29fa166-c666-42df-a8ac-44d6ca44353e",
   "metadata": {},
   "outputs": [],
   "source": [
    "# lets define loss functiojn \n",
    "criterion = nn.CrossEntropyLoss()\n",
    "#define optimezer \n",
    "optimizer = torch.optim.Adam(params=model_0.parameters(),lr=0.001,weight_decay=1e-4)"
   ]
  },
  {
   "cell_type": "code",
   "execution_count": null,
   "id": "001eb0ac-8ee8-4730-93a4-edf0016879c3",
   "metadata": {},
   "outputs": [
    {
     "data": {
      "application/vnd.jupyter.widget-view+json": {
       "model_id": "e4ba1ea9b75a4cc2a13107ac9f49b51e",
       "version_major": 2,
       "version_minor": 0
      },
      "text/plain": [
       "  0%|          | 0/10 [00:00<?, ?it/s]"
      ]
     },
     "metadata": {},
     "output_type": "display_data"
    },
    {
     "name": "stdout",
     "output_type": "stream",
     "text": [
      "Epoch: 1 | train_loss: 1.3583 | train_acc: 0.3241 | test_loss: 1.2622 | test_acc: 0.4013\n",
      "Epoch: 2 | train_loss: 1.2594 | train_acc: 0.4008 | test_loss: 1.2184 | test_acc: 0.4293\n",
      "Epoch: 3 | train_loss: 1.2539 | train_acc: 0.4023 | test_loss: 1.2013 | test_acc: 0.4803\n",
      "Epoch: 4 | train_loss: 1.1915 | train_acc: 0.4764 | test_loss: 1.1707 | test_acc: 0.4655\n",
      "Epoch: 5 | train_loss: 1.1562 | train_acc: 0.4971 | test_loss: 1.1351 | test_acc: 0.4967\n",
      "Epoch: 6 | train_loss: 1.1072 | train_acc: 0.5129 | test_loss: 1.0618 | test_acc: 0.5576\n",
      "Epoch: 7 | train_loss: 1.0670 | train_acc: 0.5544 | test_loss: 1.0816 | test_acc: 0.5428\n",
      "Epoch: 8 | train_loss: 1.0205 | train_acc: 0.5801 | test_loss: 1.0600 | test_acc: 0.5855\n",
      "Epoch: 9 | train_loss: 0.9712 | train_acc: 0.6051 | test_loss: 1.0635 | test_acc: 0.5872\n"
     ]
    }
   ],
   "source": [
    "from trainNN    import train\n",
    "torch.manual_seed(42)\n",
    "from timeit import default_timer as timer\n",
    "start_time = timer()\n",
    "results = train(\n",
    "    model=model_0,\n",
    "    train_dataloader=train_loader, \n",
    "    test_dataloader=test_loader, \n",
    "    optimizer=optimizer , \n",
    "    loss_fn=criterion, \n",
    "    epochs=10, \n",
    "    device=device\n",
    ")\n",
    "\n",
    "end_time=timer()\n",
    "print(f\"Total training  time is {end_time - start_time} seconds \")"
   ]
  },
  {
   "cell_type": "code",
   "execution_count": null,
   "id": "f3b42ec4-4671-4ef2-b315-2fb68e2cec30",
   "metadata": {},
   "outputs": [],
   "source": [
    "# from helper_functions import plot_loss_curves \n",
    "# plot_loss_curves(results)"
   ]
  },
  {
   "cell_type": "code",
   "execution_count": null,
   "id": "d1bbfdd0-dc49-422d-8e27-c13be8c6edd8",
   "metadata": {},
   "outputs": [],
   "source": [
    "from pathlib import Path \n",
    "MODEL_PATH = Path(\"models\")\n",
    "MODEL_PATH.mkdir(parents=True, exist_ok=True)\n",
    "MODEL_NAME=\"Modelv1.pth\"\n",
    "MODEL_SAVE_PATH = MODEL_PATH/MODEL_NAME\n",
    "print(f\" Saving model to { MODEL_SAVE_PATH}\")\n",
    "torch.save(obj=model_0.state_dict(),f=MODEL_SAVE_PATH)"
   ]
  },
  {
   "cell_type": "code",
   "execution_count": null,
   "id": "a658cca3-d914-41b4-9d89-104b2980acc4",
   "metadata": {},
   "outputs": [],
   "source": [
    "\n",
    "# pip install torchinfo \n",
    "from torchinfo import summary \n",
    "summary(model=model_0,\n",
    "       input_size=(32,3,128,128),\n",
    "        col_names=(\"input_size\",\"num_params\",\"trainable\")\n",
    "        col_width=20, \n",
    "        row_settings=[\"var_names\"]\n",
    "       )"
   ]
  },
  {
   "cell_type": "code",
   "execution_count": null,
   "id": "397470b5-5f6d-449a-9517-cfba92783649",
   "metadata": {},
   "outputs": [],
   "source": []
  },
  {
   "cell_type": "code",
   "execution_count": null,
   "id": "059f59ff-d2f7-4b40-b130-a3561fe58f85",
   "metadata": {},
   "outputs": [],
   "source": []
  }
 ],
 "metadata": {
  "kernelspec": {
   "display_name": "Python 3 (ipykernel)",
   "language": "python",
   "name": "python3"
  },
  "language_info": {
   "codemirror_mode": {
    "name": "ipython",
    "version": 3
   },
   "file_extension": ".py",
   "mimetype": "text/x-python",
   "name": "python",
   "nbconvert_exporter": "python",
   "pygments_lexer": "ipython3",
   "version": "3.10.16"
  }
 },
 "nbformat": 4,
 "nbformat_minor": 5
}
