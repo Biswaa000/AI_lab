{
 "cells": [
  {
   "cell_type": "code",
   "execution_count": 1,
   "id": "91386b5c-d3ce-46ad-b260-885e3b393d3e",
   "metadata": {},
   "outputs": [],
   "source": [
    "import numpy as np\n",
    "import matplotlib.pyplot as plt "
   ]
  },
  {
   "cell_type": "code",
   "execution_count": 2,
   "id": "91ddd5c1-7f55-4ff4-afdf-e7b36a35c314",
   "metadata": {},
   "outputs": [],
   "source": [
    "X=np.array([[1.5,0.625]])\n",
    "y=0.5"
   ]
  },
  {
   "cell_type": "code",
   "execution_count": 3,
   "id": "60e99631-a6ab-4578-9409-2191a69778ab",
   "metadata": {},
   "outputs": [
    {
     "name": "stdout",
     "output_type": "stream",
     "text": [
      "[[-1.11620145 -0.94558652]] (1, 2)\n"
     ]
    }
   ],
   "source": [
    "# W=np.random.randn(2,3)\n",
    "W=np.random.randn(1,2)\n",
    "print(W,W.shape )"
   ]
  },
  {
   "cell_type": "code",
   "execution_count": 4,
   "id": "7492070c-10ef-4144-bac0-a38cf8882e54",
   "metadata": {},
   "outputs": [
    {
     "name": "stdout",
     "output_type": "stream",
     "text": [
      "[[-2.26529375]]\n"
     ]
    }
   ],
   "source": [
    "y_out=np.dot(X,np.transpose(W))\n",
    "print(y_out)"
   ]
  },
  {
   "cell_type": "code",
   "execution_count": 5,
   "id": "c6bc40bc-f6cd-45cc-a4b3-dfdd090336eb",
   "metadata": {},
   "outputs": [
    {
     "name": "stdout",
     "output_type": "stream",
     "text": [
      "[[-5.26714091e-06 -2.19464204e-06]]\n",
      "[[ 0.45461583 -0.29107933]]\n"
     ]
    }
   ],
   "source": [
    "# building the training loop \n",
    "epochs=20 \n",
    "lr=0.1\n",
    "eList=[]\n",
    "for epoch in range(epochs):\n",
    "    #forward pass \n",
    "    y_out=np.dot(X,np.transpose(W))\n",
    "    #compute error\n",
    "    error =np.square(y-y_out)\n",
    "    eList.append(error[0][0])\n",
    "    #compute the gradient\n",
    "    gradient=-2*(y-y_out)*X\n",
    "\n",
    "     # backpropagate the error\n",
    "    W=W-gradient*lr\n",
    "print(gradient)\n",
    "print(W)"
   ]
  },
  {
   "cell_type": "code",
   "execution_count": 6,
   "id": "deca6a48-a3cc-4d3f-a08f-78810677fedd",
   "metadata": {},
   "outputs": [
    {
     "name": "stdout",
     "output_type": "stream",
     "text": [
      "[7.646849503306531, 1.7026935109852752, 0.3791319799216332, 0.0844198073651676, 0.018797422145831914, 0.00418554709323353, 0.0009319790944611124, 0.00020752007160945138, 4.62076675074904e-05, 1.0288877215217305e-05, 2.29098329476761e-06, 5.101241221091627e-07, 1.1358730574426694e-07, 2.5292032795653162e-08, 5.631676169677208e-09, 1.2539828939896316e-09, 2.792193746666824e-10, 6.2172665642378e-11, 1.38437397391671e-11, 3.0825303692123526e-12]\n"
     ]
    }
   ],
   "source": [
    "np.shape(eList)\n",
    "print(eList)"
   ]
  },
  {
   "cell_type": "code",
   "execution_count": 7,
   "id": "a7c9a17c-7e37-4850-80f0-bcf56883e1e6",
   "metadata": {},
   "outputs": [
    {
     "data": {
      "text/plain": [
       "Text(0.5, 1.0, 'epochs uvs error ')"
      ]
     },
     "execution_count": 7,
     "metadata": {},
     "output_type": "execute_result"
    },
    {
     "data": {
      "image/png": "[encoded data removed]",
      "text/plain": [
       "<Figure size 640x480 with 1 Axes>"
      ]
     },
     "metadata": {},
     "output_type": "display_data"
    }
   ],
   "source": [
    "plt.plot(range(epochs),eList)\n",
    "plt.xlabel(\"epochs\")\n",
    "plt.ylabel(\"erro\")\n",
    "plt.title(\"epochs uvs error \")"
   ]
  },
  {
   "cell_type": "code",
   "execution_count": 8,
   "id": "7c4de981-25b4-4156-835b-6a96afe78d10",
   "metadata": {},
   "outputs": [
    {
     "name": "stdout",
     "output_type": "stream",
     "text": [
      "[[0.49999917]]\n"
     ]
    }
   ],
   "source": [
    "def output(X,W): \n",
    "    return np.dot(X,np.transpose(W))\n",
    "print(output(X,W))"
   ]
  },
  {
   "cell_type": "code",
   "execution_count": null,
   "id": "5a6c3648-20e4-478e-80d7-12a309877014",
   "metadata": {},
   "outputs": [],
   "source": []
  }
 ],
 "metadata": {
  "kernelspec": {
   "display_name": "Python 3 (ipykernel)",
   "language": "python",
   "name": "python3"
  },
  "language_info": {
   "codemirror_mode": {
    "name": "ipython",
    "version": 3
   },
   "file_extension": ".py",
   "mimetype": "text/x-python",
   "name": "python",
   "nbconvert_exporter": "python",
   "pygments_lexer": "ipython3",
   "version": "3.10.16"
  }
 },
 "nbformat": 4,
 "nbformat_minor": 5
}
